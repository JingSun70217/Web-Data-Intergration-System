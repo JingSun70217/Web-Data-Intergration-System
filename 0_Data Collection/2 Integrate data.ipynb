{
 "cells": [
  {
   "cell_type": "markdown",
   "metadata": {},
   "source": [
    "# Integrated Data"
   ]
  },
  {
   "cell_type": "markdown",
   "metadata": {},
   "source": [
    "=========================== Step1: Merge 'lyrics.csv'(df1) and 'SPARQL_1.csv'(df2) into 'df' according to 'artistName'========================"
   ]
  },
  {
   "cell_type": "markdown",
   "metadata": {},
   "source": [
    "这里的思路是按照一两个主键，先把两个数据集merge起来，然后剩下的数据集依次按照一两个主键merge到之前merge起来的数据集里。  \n",
    "每个主键要进行normalize。为了让处理完后的结果差不多，每一步normalize主键的过程大同小异。  \n",
    "大致是去除主键里的特殊符号，- \" 首尾空格等。进行重命名便于标识。artistName那里，如果有一个以上的人名，就用&连接。如：Earth Wind & Fire  \n",
    "每merge进一个dataset，就根据主键去重一下。"
   ]
  },
  {
   "cell_type": "code",
   "execution_count": 119,
   "metadata": {},
   "outputs": [],
   "source": [
    "import pandas as pd\n",
    "import numpy as np\n",
    "import re\n",
    "import json\n",
    "from pandas.core.frame import DataFrame\n",
    "import  xml.dom.minidom\n",
    "path = 'C:\\\\Users\\\\D074110\\\\Desktop\\\\Study\\\\课\\\\Web Data Integration\\\\WDI_TP\\\\Data collection\\\\final datasets\\\\'"
   ]
  },
  {
   "cell_type": "code",
   "execution_count": 120,
   "metadata": {},
   "outputs": [],
   "source": [
    "# Loading 'lyrics.csv'. What does the original 'song' looks like in 'lyrics.csv'\n",
    "f1 = open(path + 'lyrics.csv',encoding=\"utf8\")\n",
    "df1=pd.read_csv(f1,sep=',')\n",
    "#df1['song'] \n",
    "#All the words are lowercase. But there are some capitals in another dataset. So we should normalize"
   ]
  },
  {
   "cell_type": "code",
   "execution_count": 121,
   "metadata": {
    "scrolled": true
   },
   "outputs": [
    {
     "name": "stdout",
     "output_type": "stream",
     "text": [
      "   index         songName  songYear       artistName songGenre  \\\n",
      "0      0        Ego Remix      2009  beyonce-knowles       Pop   \n",
      "1      1     Then Tell Me      2009  beyonce-knowles       Pop   \n",
      "2      2          Honesty      2009  beyonce-knowles       Pop   \n",
      "3      3  You Are My Rock      2009  beyonce-knowles       Pop   \n",
      "4      4    Black Culture      2009  beyonce-knowles       Pop   \n",
      "\n",
      "                                              lyrics  \n",
      "0  Oh baby, how you doing?\\nYou know I'm gonna cu...  \n",
      "1  playin' everything so easy,\\nit's like you see...  \n",
      "2  If you search\\nFor tenderness\\nIt isn't hard t...  \n",
      "3  Oh oh oh I, oh oh oh I\\n[Verse 1:]\\nIf I wrote...  \n",
      "4  Party the people, the people the party it's po...  \n",
      "(362237, 6)\n"
     ]
    }
   ],
   "source": [
    "#Normalizing songName in 'lyrics.csv'\n",
    "df1['song']=df1['song'].str.replace('-',' ') # Remove - inside of songName\n",
    "df1['song']=df1['song'].str.title()# Every word in the songName beginning with capital\n",
    "df1=df1.rename(columns={'year':'songReleaseYear'}) #Reaname 'song' with 'songName'\n",
    "df1=df1.rename(columns={'genre':'songGenre'})\n",
    "df1=df1.rename(columns={'artist':'artistName'})\n",
    "df1=df1.rename(columns={'song':'songName'})\n",
    "print(df1.head())\n",
    "print(df1.shape)\n",
    "#df1['songName'] #Check songName of 'lyrics.csv'"
   ]
  },
  {
   "cell_type": "code",
   "execution_count": 122,
   "metadata": {},
   "outputs": [
    {
     "name": "stderr",
     "output_type": "stream",
     "text": [
      "C:\\Users\\D074110\\AppData\\Local\\Continuum\\anaconda3\\lib\\site-packages\\ipykernel_launcher.py:3: ParserWarning: Falling back to the 'python' engine because the 'c' engine does not support regex separators (separators > 1 char and different from '\\s+' are interpreted as regex); you can avoid this warning by specifying engine='python'.\n",
      "  This is separate from the ipykernel package so we can avoid doing imports until\n"
     ]
    }
   ],
   "source": [
    "# Loading 'SPARQL_1.csv'. What does the original 'song' looks like in 'SPARQL_1.csv'\n",
    "f2 = open(path + 'SPARQL_1.csv',encoding=\"utf8\")\n",
    "df2=pd.read_csv(f2,sep='\" , \"', error_bad_lines=False,warn_bad_lines=False)\n",
    "#df2['songName'] "
   ]
  },
  {
   "cell_type": "code",
   "execution_count": 123,
   "metadata": {},
   "outputs": [
    {
     "name": "stdout",
     "output_type": "stream",
     "text": [
      "       artistName                               songName songRecordDate  \\\n",
      "0  Charlie Parker                        Billie'S Bounce           None   \n",
      "1           Cream             Doing That Scrapyard Thing           None   \n",
      "2  Dannii Minogue  Come And Get It (Dannii Minogue Song)           None   \n",
      "3      Gary Numan                           Metal (Song)           None   \n",
      "4         Genesis                         Firth Of Fifth           None   \n",
      "\n",
      "  songLyrics   v ,  \n",
      "0       None  None  \n",
      "1       None  None  \n",
      "2       None  None  \n",
      "3       None  None  \n",
      "4       None  None  \n",
      "(5218, 5)\n"
     ]
    }
   ],
   "source": [
    "#Normalizing songName in SPARQL_1.csv'\n",
    "#Remove \"\"\n",
    "df2 = df2.rename(columns=lambda x: x.replace(\"'\",\"\").replace('\"','')).replace(\" \",\"\") \n",
    "df2['Artistname']=df2['Artistname'].str.replace('\"','')\n",
    "df2['songName']=df2['songName'].str.replace('\"','')\n",
    "df2['songName']=df2['songName'].str.replace(' ,  ,  ,  ,','')#Remove ,  ,  ,  ,\n",
    "df2['songName']=df2['songName'].str.title()# Every word in the songName beginning with capital\n",
    "df2=df2.rename(columns={'Artistname':'artistName'})\n",
    "df1=df1.rename(columns={'artist':'artistName'})\n",
    "print(df2.head())\n",
    "print(df2.shape)"
   ]
  },
  {
   "cell_type": "code",
   "execution_count": 124,
   "metadata": {
    "scrolled": true
   },
   "outputs": [],
   "source": [
    "#Remove () by using regular expression\n",
    "songName = df2['songName']\n",
    "songName = ','.join(str(v) for v in songName)  # transfer data into string. Because re.sub() expected string or bytes-like object\n",
    "pattern=re.compile(r'\\((.*?)\\)')\n",
    "songName = pattern.sub('',songName)\n",
    "songName = songName.strip() \n",
    "songName = songName.split(',') #transfer data into list\n",
    "songName = [line.strip() for line in songName]  #remove skip at the begging and end of string\n",
    "#songName #It's list now"
   ]
  },
  {
   "cell_type": "code",
   "execution_count": 125,
   "metadata": {
    "scrolled": true
   },
   "outputs": [
    {
     "name": "stdout",
     "output_type": "stream",
     "text": [
      "       artistName                    songName songRecordDate songLyrics   v ,\n",
      "0  Charlie Parker             Billie'S Bounce           None       None  None\n",
      "1           Cream  Doing That Scrapyard Thing           None       None  None\n",
      "2  Dannii Minogue             Come And Get It           None       None  None\n",
      "3      Gary Numan                       Metal           None       None  None\n",
      "4         Genesis              Firth Of Fifth           None       None  None\n",
      "(5218, 5)\n"
     ]
    }
   ],
   "source": [
    "#append data from list to dataframe\n",
    "df2['songName'] = pd.Series(songName)\n",
    "df2['songName']=df2['songName'].str.replace('-',' ') \n",
    "print(df2.head())\n",
    "print(df2.shape)\n",
    "#df2['songName']"
   ]
  },
  {
   "cell_type": "code",
   "execution_count": 126,
   "metadata": {},
   "outputs": [],
   "source": [
    "df1['artistName'] =df1['artistName'].str.replace(' / ',' ') # Remove / inside of Artist\n",
    "df1['artistName'] =df1['artistName'].str.replace('-',' ') # Remove / inside of Artist\n",
    "df1['artistName'] =df1['artistName'].str.replace(', ',' ') # Remove , inside of Artist\n",
    "df1['artistName'] =df1['artistName'].str.title()# Every word in the songName beginning with capital\n",
    "#df1['artistName'] "
   ]
  },
  {
   "cell_type": "code",
   "execution_count": 127,
   "metadata": {},
   "outputs": [],
   "source": [
    "df2['artistName'] =df2['artistName'].str.replace(' / ',' ') # Remove / inside of Artist\n",
    "df2['artistName'] =df2['artistName'].str.replace('-',' ') # Remove / inside of Artist\n",
    "df2['artistName'] =df2['artistName'].str.replace(', ',' ') # Remove , inside of Artist\n",
    "df2['artistName'] =df2['artistName'].str.title()# Every word in the songName beginning with capital\n",
    "#df2['artistName']"
   ]
  },
  {
   "cell_type": "code",
   "execution_count": 128,
   "metadata": {
    "scrolled": false
   },
   "outputs": [
    {
     "name": "stdout",
     "output_type": "stream",
     "text": [
      "          songName  songYear       artistName songGenre  \\\n",
      "0        Ego Remix    2009.0  Beyonce Knowles       Pop   \n",
      "1     Then Tell Me    2009.0  Beyonce Knowles       Pop   \n",
      "2          Honesty    2009.0  Beyonce Knowles       Pop   \n",
      "3  You Are My Rock    2009.0  Beyonce Knowles       Pop   \n",
      "4    Black Culture    2009.0  Beyonce Knowles       Pop   \n",
      "\n",
      "                                              lyrics songLyrics  \n",
      "0  Oh baby, how you doing?\\nYou know I'm gonna cu...        NaN  \n",
      "1  playin' everything so easy,\\nit's like you see...        NaN  \n",
      "2  If you search\\nFor tenderness\\nIt isn't hard t...        NaN  \n",
      "3  Oh oh oh I, oh oh oh I\\n[Verse 1:]\\nIf I wrote...        NaN  \n",
      "4  Party the people, the people the party it's po...        NaN  \n",
      "(366734, 6)\n"
     ]
    }
   ],
   "source": [
    "#merge two datasets according to 'songName' into a new dataset\n",
    "df = pd.merge(df1, df2, on = ['songName','artistName'],how = 'outer')\n",
    "#Remove duplicates value accoeding to 'songName' for each dataset \n",
    "df = df.drop_duplicates(['songName','artistName'],keep='first') \n",
    "#drop some useless columns\n",
    "df = df.drop(['songRecordDate','index','v ,'], 1, inplace=False)\n",
    "print(df.head())\n",
    "print(df.shape)\n",
    "\n",
    "#删除列的两种方式\n",
    "#df.drop(columns=['a','b'])\n",
    "#df.drop(['a','b'],axis=1)"
   ]
  },
  {
   "cell_type": "code",
   "execution_count": 129,
   "metadata": {},
   "outputs": [
    {
     "data": {
      "text/plain": [
       "songName           2\n",
       "songYear        5040\n",
       "artistName         0\n",
       "songGenre       5040\n",
       "lyrics        100687\n",
       "songLyrics    366718\n",
       "dtype: int64"
      ]
     },
     "execution_count": 129,
     "metadata": {},
     "output_type": "execute_result"
    }
   ],
   "source": [
    "#print(df['artist'].notnull()) 显示某列中非空值\n",
    "df.shape[0] - df.count()# 每列缺失值的个数"
   ]
  },
  {
   "cell_type": "markdown",
   "metadata": {},
   "source": [
    "============================== Step2: Merge 'albumlist.csv'(df3) and df according to 'artistName'==========================="
   ]
  },
  {
   "cell_type": "code",
   "execution_count": 130,
   "metadata": {},
   "outputs": [
    {
     "name": "stdout",
     "output_type": "stream",
     "text": [
      "   Number  albumYear                              albumName          Artist  \\\n",
      "0       1       1967  Sgt. Pepper's Lonely Hearts Club Band     The Beatles   \n",
      "1       2       1966                             Pet Sounds  The Beach Boys   \n",
      "2       3       1966                               Revolver     The Beatles   \n",
      "3       4       1965                   Highway 61 Revisited       Bob Dylan   \n",
      "4       5       1965                            Rubber Soul     The Beatles   \n",
      "\n",
      "  albumGenre                  albumSubgenre  \n",
      "0       Rock  Rock & Roll, Psychedelic Rock  \n",
      "1       Rock     Pop Rock, Psychedelic Rock  \n",
      "2       Rock     Psychedelic Rock, Pop Rock  \n",
      "3       Rock          Folk Rock, Blues Rock  \n",
      "4  Rock, Pop                       Pop Rock  \n",
      "(500, 6)\n"
     ]
    }
   ],
   "source": [
    "# Loading 'albumlist.csv'. \n",
    "f3 = open(path + 'albumlist.csv',encoding=\"ISO-8859-1\")\n",
    "df3=pd.read_csv(f3,sep=',')\n",
    "df3=df3.rename(columns={'Year':'albumYear'})\n",
    "df3=df3.rename(columns={'Genre':'albumGenre'})\n",
    "df3=df3.rename(columns={'Subgenre':'albumSubgenre'})\n",
    "df3=df3.rename(columns={'Album':'albumName'})\n",
    "print(df3.head())\n",
    "print(df3.shape)"
   ]
  },
  {
   "cell_type": "code",
   "execution_count": 131,
   "metadata": {
    "scrolled": true
   },
   "outputs": [
    {
     "data": {
      "text/plain": [
       "0                           The Beatles\n",
       "1                        The Beach Boys\n",
       "2                           The Beatles\n",
       "3                             Bob Dylan\n",
       "4                           The Beatles\n",
       "5                           Marvin Gaye\n",
       "6                    The Rolling Stones\n",
       "7                             The Clash\n",
       "8                             Bob Dylan\n",
       "9                           The Beatles\n",
       "10                        Elvis Presley\n",
       "11                          Miles Davis\n",
       "12               The Velvet Underground\n",
       "13                          The Beatles\n",
       "14          The Jimi Hendrix Experience\n",
       "15                            Bob Dylan\n",
       "16                              Nirvana\n",
       "17                    Bruce Springsteen\n",
       "18                         Van Morrison\n",
       "19                      Michael Jackson\n",
       "20                          Chuck Berry\n",
       "21                       Robert Johnson\n",
       "22         John Lennon Plastic Ono Band\n",
       "23                        Stevie Wonder\n",
       "24                          James Brown\n",
       "25                        Fleetwood Mac\n",
       "26                                   U2\n",
       "27                              The Who\n",
       "28                         Led Zeppelin\n",
       "29                        Joni Mitchell\n",
       "                     ...               \n",
       "470            Richard & Linda Thompson\n",
       "471                      George Michael\n",
       "472                          The Smiths\n",
       "473                           Manu Chao\n",
       "474    Elvis Costello & The Attractions\n",
       "475                The Notorious B.I.G.\n",
       "476                       Merle Haggard\n",
       "477                        Loretta Lynn\n",
       "478                          Funkadelic\n",
       "479                             Raekwon\n",
       "480                            D'Angelo\n",
       "481                         Steve Earle\n",
       "482                        Gang Of Four\n",
       "483                     Mott The Hoople\n",
       "484                           Pearl Jam\n",
       "485                   Earth Wind & Fire\n",
       "486                        Cyndi Lauper\n",
       "487                           Husker Du\n",
       "488                                Kiss\n",
       "489                              Zz Top\n",
       "490                         Albert King\n",
       "491                          Eurythmics\n",
       "492                               Wilco\n",
       "493                                Mgmt\n",
       "494                        Bonnie Raitt\n",
       "495                          Boz Scaggs\n",
       "496                   The White Stripes\n",
       "497                     The Stone Roses\n",
       "498                           B.B. King\n",
       "499                             Outkast\n",
       "Name: artistName, Length: 500, dtype: object"
      ]
     },
     "execution_count": 131,
     "metadata": {},
     "output_type": "execute_result"
    }
   ],
   "source": [
    "#df3['Artist']=df3['Artist'].str.replace(' & ',' ') # Remove & inside of Artist\n",
    "df3['Artist']=df3['Artist'].str.replace(' / ',' ') # Remove / inside of Artist\n",
    "df3['Artist']=df3['Artist'].str.replace(', ',' ') # Remove , inside of Artist\n",
    "df3['Artist']=df3['Artist'].str.title()# Every word in the songName beginning with capital\n",
    "df3=df3.rename(columns={'Artist':'artistName'}) #Reaname 'Artist' with 'artistName'\n",
    "df3['artistName'] "
   ]
  },
  {
   "cell_type": "code",
   "execution_count": 132,
   "metadata": {},
   "outputs": [
    {
     "name": "stdout",
     "output_type": "stream",
     "text": [
      "          songName  songYear       artistName songGenre  \\\n",
      "0        Ego Remix    2009.0  Beyonce Knowles       Pop   \n",
      "1     Then Tell Me    2009.0  Beyonce Knowles       Pop   \n",
      "2          Honesty    2009.0  Beyonce Knowles       Pop   \n",
      "3  You Are My Rock    2009.0  Beyonce Knowles       Pop   \n",
      "4    Black Culture    2009.0  Beyonce Knowles       Pop   \n",
      "\n",
      "                                              lyrics songLyrics albumName  \n",
      "0  Oh baby, how you doing?\\nYou know I'm gonna cu...        NaN       NaN  \n",
      "1  playin' everything so easy,\\nit's like you see...        NaN       NaN  \n",
      "2  If you search\\nFor tenderness\\nIt isn't hard t...        NaN       NaN  \n",
      "3  Oh oh oh I, oh oh oh I\\n[Verse 1:]\\nIf I wrote...        NaN       NaN  \n",
      "4  Party the people, the people the party it's po...        NaN       NaN  \n",
      "(395126, 7)\n"
     ]
    }
   ],
   "source": [
    "df = pd.merge(df, df3, on = ['artistName'],how = 'outer')\n",
    "#drop some useless columns\n",
    "df = df.drop(['Number','albumSubgenre'], 1, inplace=False)\n",
    "print(df.head())\n",
    "print(df.shape)"
   ]
  },
  {
   "cell_type": "code",
   "execution_count": 133,
   "metadata": {
    "scrolled": true
   },
   "outputs": [
    {
     "data": {
      "text/plain": [
       "songName         141\n",
       "songYear       10818\n",
       "artistName         0\n",
       "songGenre      10818\n",
       "lyrics        107596\n",
       "songLyrics    395078\n",
       "albumName     349935\n",
       "dtype: int64"
      ]
     },
     "execution_count": 133,
     "metadata": {},
     "output_type": "execute_result"
    }
   ],
   "source": [
    "df.shape[0] - df.count()# 每列缺失值的个数"
   ]
  },
  {
   "cell_type": "markdown",
   "metadata": {},
   "source": [
    "============================== Step3: Merge 'SPARQL_3.json'(df4) and df according to 'artistName'==========================="
   ]
  },
  {
   "cell_type": "markdown",
   "metadata": {},
   "source": [
    "这个数据集里\"BandName\"和\"albumsNumber\"都没有query出来。只有artisNationality和artisName"
   ]
  },
  {
   "cell_type": "code",
   "execution_count": 209,
   "metadata": {},
   "outputs": [],
   "source": [
    "import json\n",
    "import requests"
   ]
  },
  {
   "cell_type": "code",
   "execution_count": 210,
   "metadata": {},
   "outputs": [
    {
     "name": "stdout",
     "output_type": "stream",
     "text": [
      "{'artistName': {'type': 'literal', 'xml:lang': 'en', 'value': 'John Matarazzo'}, 'artisNationality': {'type': 'literal', 'xml:lang': 'en', 'value': 'United States'}}\n"
     ]
    }
   ],
   "source": [
    "#读取这个目录的JSON文件并解码成python数据\n",
    "with open(path + 'SPARQL_31.json','r') as load_f:\n",
    "    df4 = json.load(load_f) \n",
    "    #print(df4)\n",
    "df4 = df4['results']#在这里是字典，字典才有key\n",
    "#print(df4.keys()) #dict_keys(['distinct', 'ordered', 'bindings'])\n",
    "df4 = df4['bindings'] #从这里开始就是list了\n",
    "print(df4[1])"
   ]
  },
  {
   "cell_type": "code",
   "execution_count": 212,
   "metadata": {},
   "outputs": [
    {
     "name": "stdout",
     "output_type": "stream",
     "text": [
      "<class 'pandas.core.frame.DataFrame'>\n",
      "                                    artisNationality  \\\n",
      "0  {'type': 'literal', 'xml:lang': 'en', 'value':...   \n",
      "1  {'type': 'literal', 'xml:lang': 'en', 'value':...   \n",
      "2  {'type': 'literal', 'xml:lang': 'en', 'value':...   \n",
      "3  {'type': 'literal', 'xml:lang': 'en', 'value':...   \n",
      "4  {'type': 'literal', 'xml:lang': 'en', 'value':...   \n",
      "\n",
      "                                          artistName  \n",
      "0  {'type': 'literal', 'xml:lang': 'en', 'value':...  \n",
      "1  {'type': 'literal', 'xml:lang': 'en', 'value':...  \n",
      "2  {'type': 'literal', 'xml:lang': 'en', 'value':...  \n",
      "3  {'type': 'literal', 'xml:lang': 'en', 'value':...  \n",
      "4  {'type': 'literal', 'xml:lang': 'en', 'value':...  \n",
      "(1604, 2)\n"
     ]
    }
   ],
   "source": [
    "#先把list转成dataframe\n",
    "from pandas.core.frame import DataFrame\n",
    "df4=DataFrame(df4)\n",
    "print(type(df4))\n",
    "print(df4.head())\n",
    "print(df4.shape)"
   ]
  },
  {
   "cell_type": "code",
   "execution_count": 213,
   "metadata": {},
   "outputs": [
    {
     "name": "stdout",
     "output_type": "stream",
     "text": [
      "                                    artisNationality         artistName\n",
      "0  {'type': 'literal', 'xml:lang': 'en', 'value':...   Blanche Calloway\n",
      "1  {'type': 'literal', 'xml:lang': 'en', 'value':...     John Matarazzo\n",
      "2  {'type': 'literal', 'xml:lang': 'en', 'value':...      Richard Stone\n",
      "3  {'type': 'literal', 'xml:lang': 'en', 'value':...  Bianca Maria Meda\n",
      "4  {'type': 'literal', 'xml:lang': 'en', 'value':...      Girolamo Abos\n",
      "(1604, 2)\n"
     ]
    },
    {
     "name": "stderr",
     "output_type": "stream",
     "text": [
      "C:\\Users\\D074110\\AppData\\Local\\Continuum\\anaconda3\\lib\\site-packages\\ipykernel_launcher.py:12: FutureWarning: set_value is deprecated and will be removed in a future release. Please use .at[] or .iat[] accessors instead\n",
      "  if sys.path[0] == '':\n"
     ]
    }
   ],
   "source": [
    "#提取artistName的值。趁着是str赶紧normalize\n",
    "for i in range(len(df4['artistName'])): #遍历dataframe中的一列\n",
    "    #print(type(df4['artistName'][i])) <class 'dict'> 每一行都是dictionary\n",
    "    an = df4['artistName'][i]\n",
    "    artistName = an.get('value')#<class 'str'>现在每个都是str的形式，很适normalizing里面的值\n",
    "    pattern=re.compile(r'\\((.*?)\\)')\n",
    "    artistName = pattern.sub('',artistName)\n",
    "    artistName = artistName.strip() \n",
    "    artistName = artistName.replace('-',' ')\n",
    "    artistName = artistName.title()\n",
    "    #print(artistName)\n",
    "    df4 = df4.set_value(i, 'artistName', artistName)\n",
    "    #set_value: Put single value at passed column and index\n",
    "print(df4.head())\n",
    "print(df4.shape)"
   ]
  },
  {
   "cell_type": "code",
   "execution_count": 215,
   "metadata": {},
   "outputs": [
    {
     "name": "stdout",
     "output_type": "stream",
     "text": [
      "  artisNationality         artistName\n",
      "0    United States   Blanche Calloway\n",
      "1    United States     John Matarazzo\n",
      "2    United States      Richard Stone\n",
      "3            Italy  Bianca Maria Meda\n",
      "4            Italy      Girolamo Abos\n",
      "(1604, 2)\n"
     ]
    },
    {
     "name": "stderr",
     "output_type": "stream",
     "text": [
      "C:\\Users\\D074110\\AppData\\Local\\Continuum\\anaconda3\\lib\\site-packages\\ipykernel_launcher.py:12: FutureWarning: set_value is deprecated and will be removed in a future release. Please use .at[] or .iat[] accessors instead\n",
      "  if sys.path[0] == '':\n"
     ]
    }
   ],
   "source": [
    "#同样的操作提取artisNationality\n",
    "for i in range(len(df4['artisNationality'])): #遍历dataframe中的一列\n",
    "    #print(type(df4['artistName'][i])) <class 'dict'> 每一行都是dictionary\n",
    "    an = df4['artisNationality'][i]\n",
    "    artisNationality = an.get('value')#<class 'str'>现在每个都是str的形式，很适normalizing里面的值\n",
    "    pattern=re.compile(r'\\((.*?)\\)')\n",
    "    artisNationality = pattern.sub('',artisNationality)\n",
    "    artisNationality = artisNationality.strip() \n",
    "    artisNationality = artisNationality.replace('-',' ')\n",
    "    artisNationality = artisNationality.title()\n",
    "    #print(artistName)\n",
    "    df4 = df4.set_value(i, 'artisNationality', artisNationality)\n",
    "    #set_value: Put single value at passed column and index\n",
    "print(df4.head())\n",
    "print(df4.shape)"
   ]
  },
  {
   "cell_type": "code",
   "execution_count": 216,
   "metadata": {},
   "outputs": [
    {
     "name": "stdout",
     "output_type": "stream",
     "text": [
      "          songName  songYear       artistName songGenre  \\\n",
      "0        Ego Remix    2009.0  Beyonce Knowles       Pop   \n",
      "1     Then Tell Me    2009.0  Beyonce Knowles       Pop   \n",
      "2          Honesty    2009.0  Beyonce Knowles       Pop   \n",
      "3  You Are My Rock    2009.0  Beyonce Knowles       Pop   \n",
      "4    Black Culture    2009.0  Beyonce Knowles       Pop   \n",
      "\n",
      "                                              lyrics songLyrics albumName  \\\n",
      "0  Oh baby, how you doing?\\nYou know I'm gonna cu...        NaN       NaN   \n",
      "1  playin' everything so easy,\\nit's like you see...        NaN       NaN   \n",
      "2  If you search\\nFor tenderness\\nIt isn't hard t...        NaN       NaN   \n",
      "3  Oh oh oh I, oh oh oh I\\n[Verse 1:]\\nIf I wrote...        NaN       NaN   \n",
      "4  Party the people, the people the party it's po...        NaN       NaN   \n",
      "\n",
      "  artisNationality  \n",
      "0              NaN  \n",
      "1              NaN  \n",
      "2              NaN  \n",
      "3              NaN  \n",
      "4              NaN  \n",
      "(396728, 8)\n"
     ]
    }
   ],
   "source": [
    "df = pd.merge(df, df4, on = ['artistName'],how = 'outer')\n",
    "#drop some useless columns\n",
    "#df = df.drop(['Number','albumSubgenre','albumGenre','albumYear'], 1, inplace=False)\n",
    "print(df.head())\n",
    "print(df.shape)"
   ]
  },
  {
   "cell_type": "code",
   "execution_count": 217,
   "metadata": {},
   "outputs": [
    {
     "data": {
      "text/plain": [
       "songName              1708\n",
       "songYear             12385\n",
       "artistName               0\n",
       "songGenre            12385\n",
       "lyrics              109164\n",
       "songLyrics          396680\n",
       "albumName           351537\n",
       "artisNationality    394652\n",
       "dtype: int64"
      ]
     },
     "execution_count": 217,
     "metadata": {},
     "output_type": "execute_result"
    }
   ],
   "source": [
    "df.shape[0] - df.count()# 每列缺失值的个数"
   ]
  },
  {
   "cell_type": "markdown",
   "metadata": {},
   "source": [
    "============================== Step4: Merge 'SPARQL_4.xml'(df5) and df according to 'BandMembers'===========================  \n",
    "因为看了下基本只有只有一个成员"
   ]
  },
  {
   "cell_type": "code",
   "execution_count": 218,
   "metadata": {},
   "outputs": [
    {
     "name": "stdout",
     "output_type": "stream",
     "text": [
      "<xml.dom.minidom.Document object at 0x00000209332CA408>\n"
     ]
    }
   ],
   "source": [
    "import  xml.dom.minidom\n",
    "df5 = xml.dom.minidom.parse(path + 'SPARQL_4.xml')\n",
    "print(df5)"
   ]
  },
  {
   "cell_type": "code",
   "execution_count": null,
   "metadata": {},
   "outputs": [],
   "source": []
  },
  {
   "cell_type": "code",
   "execution_count": null,
   "metadata": {},
   "outputs": [],
   "source": []
  },
  {
   "cell_type": "code",
   "execution_count": null,
   "metadata": {},
   "outputs": [],
   "source": []
  },
  {
   "cell_type": "code",
   "execution_count": null,
   "metadata": {},
   "outputs": [],
   "source": []
  },
  {
   "cell_type": "code",
   "execution_count": null,
   "metadata": {},
   "outputs": [],
   "source": []
  },
  {
   "cell_type": "code",
   "execution_count": null,
   "metadata": {},
   "outputs": [],
   "source": []
  },
  {
   "cell_type": "code",
   "execution_count": null,
   "metadata": {},
   "outputs": [],
   "source": []
  },
  {
   "cell_type": "code",
   "execution_count": null,
   "metadata": {},
   "outputs": [],
   "source": []
  }
 ],
 "metadata": {
  "kernelspec": {
   "display_name": "Python 3",
   "language": "python",
   "name": "python3"
  },
  "language_info": {
   "codemirror_mode": {
    "name": "ipython",
    "version": 3
   },
   "file_extension": ".py",
   "mimetype": "text/x-python",
   "name": "python",
   "nbconvert_exporter": "python",
   "pygments_lexer": "ipython3",
   "version": "3.6.5"
  }
 },
 "nbformat": 4,
 "nbformat_minor": 2
}
